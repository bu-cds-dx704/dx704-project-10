{
  "cells": [
    {
      "cell_type": "markdown",
      "metadata": {
        "id": "Md413FzAvFD8"
      },
      "source": [
        "# DX 704 Week 10 Project",
        "\n",
        "In this project, you will implement document search within a question and answer database and assess its performance.\n"
      ]
    },
    {
      "cell_type": "markdown",
      "metadata": {
        "id": "s4B2Ff6lisqH"
      },
      "source": [
        "The full project description and a template notebook are available on GitHub: [Project 10 Materials](https://github.com/bu-cds-dx704/dx704-project-10).\n"
      ]
    },
    {
      "cell_type": "markdown",
      "metadata": {
        "id": "OEezzKGSdyXB"
      },
      "source": [
        "## Example Code\n",
        "\n",
        "You may find it helpful to refer to these GitHub repositories of Jupyter notebooks for example code.\n",
        "\n",
        "* https://github.com/bu-cds-omds/dx601-examples\n",
        "* https://github.com/bu-cds-omds/dx602-examples\n",
        "* https://github.com/bu-cds-omds/dx603-examples\n",
        "* https://github.com/bu-cds-omds/dx704-examples\n",
        "\n",
        "Any calculations demonstrated in code examples or videos may be found in these notebooks, and you are allowed to copy this example code in your homework answers."
      ]
    },
    {
      "cell_type": "markdown",
      "metadata": {
        "id": "tQhkdHNFbwLp"
      },
      "source": [
        "## Part 1: Download the SQuAD-explorer Data Set\n",
        "\n",
        "You may use the code provided below."
      ]
    },
    {
      "cell_type": "code",
      "execution_count": null,
      "metadata": {
        "colab": {
          "base_uri": "https://localhost:8080/"
        },
        "id": "5KDN4uTycILU",
        "outputId": "263d0284-de7d-493e-c40f-92161d739ac0"
      },
      "outputs": [
        {
          "name": "stdout",
          "output_type": "stream",
          "text": [
            "Cloning into 'SQuAD-explorer'...\n",
            "remote: Enumerating objects: 5563, done.\u001b[K\n",
            "remote: Counting objects: 100% (24/24), done.\u001b[K\n",
            "remote: Compressing objects: 100% (18/18), done.\u001b[K\n",
            "remote: Total 5563 (delta 11), reused 17 (delta 6), pack-reused 5539 (from 1)\u001b[K\n",
            "Receiving objects: 100% (5563/5563), 52.26 MiB | 11.34 MiB/s, done.\n",
            "Resolving deltas: 100% (3563/3563), done.\n",
            "Updating files: 100% (60/60), done.\n"
          ]
        }
      ],
      "source": [
        "!git clone https://github.com/rajpurkar/SQuAD-explorer"
      ]
    },
    {
      "cell_type": "code",
      "execution_count": null,
      "metadata": {
        "id": "W7Cgmz-lVmBF"
      },
      "outputs": [],
      "source": [
        "import json"
      ]
    },
    {
      "cell_type": "code",
      "execution_count": null,
      "metadata": {
        "id": "kXc87YHZVsOz"
      },
      "outputs": [],
      "source": [
        "with open(\"SQuAD-explorer/dataset/train-v1.1.json\") as fp:\n",
        "    train_data = json.load(fp)"
      ]
    },
    {
      "cell_type": "code",
      "execution_count": null,
      "metadata": {
        "colab": {
          "base_uri": "https://localhost:8080/"
        },
        "id": "WaYKgEa3V149",
        "outputId": "d512a1ae-7e36-4675-c3b9-05ebea9bf9df"
      },
      "outputs": [
        {
          "data": {
            "text/plain": [
              "dict"
            ]
          },
          "execution_count": null,
          "metadata": {},
          "output_type": "execute_result"
        }
      ],
      "source": [
        "type(train_data)"
      ]
    },
    {
      "cell_type": "code",
      "execution_count": null,
      "metadata": {
        "colab": {
          "base_uri": "https://localhost:8080/"
        },
        "id": "IJrdzIqwV3FK",
        "outputId": "78415ac7-f68a-4179-cc19-6ccd18c00b33"
      },
      "outputs": [
        {
          "data": {
            "text/plain": [
              "['data', 'version']"
            ]
          },
          "execution_count": null,
          "metadata": {},
          "output_type": "execute_result"
        }
      ],
      "source": [
        "list(train_data.keys())"
      ]
    },
    {
      "cell_type": "code",
      "execution_count": null,
      "metadata": {
        "colab": {
          "base_uri": "https://localhost:8080/"
        },
        "id": "Pbru7Z_UV74r",
        "outputId": "5c90d6d6-e0db-459e-fc99-8c59e0d7ee54"
      },
      "outputs": [
        {
          "data": {
            "text/plain": [
              "list"
            ]
          },
          "execution_count": null,
          "metadata": {},
          "output_type": "execute_result"
        }
      ],
      "source": [
        "type(train_data[\"data\"])"
      ]
    },
    {
      "cell_type": "code",
      "execution_count": null,
      "metadata": {
        "colab": {
          "base_uri": "https://localhost:8080/"
        },
        "id": "BvLq8Xo_V-Ji",
        "outputId": "214682af-3013-4c9c-a344-1953dd6e7120"
      },
      "outputs": [
        {
          "data": {
            "text/plain": [
              "442"
            ]
          },
          "execution_count": null,
          "metadata": {},
          "output_type": "execute_result"
        }
      ],
      "source": [
        "len(train_data[\"data\"])"
      ]
    },
    {
      "cell_type": "code",
      "execution_count": null,
      "metadata": {
        "colab": {
          "base_uri": "https://localhost:8080/"
        },
        "id": "MIaSECnAWBv7",
        "outputId": "d9e182f7-22c8-4f9b-c756-adacde1112ed"
      },
      "outputs": [
        {
          "data": {
            "text/plain": [
              "dict"
            ]
          },
          "execution_count": null,
          "metadata": {},
          "output_type": "execute_result"
        }
      ],
      "source": [
        "type(train_data[\"data\"][0])"
      ]
    },
    {
      "cell_type": "code",
      "execution_count": null,
      "metadata": {
        "colab": {
          "base_uri": "https://localhost:8080/"
        },
        "id": "ze4bVs4bWJ7l",
        "outputId": "9dc04b5a-0943-4cb2-d78b-c137545a35ed"
      },
      "outputs": [
        {
          "data": {
            "text/plain": [
              "dict_keys(['title', 'paragraphs'])"
            ]
          },
          "execution_count": null,
          "metadata": {},
          "output_type": "execute_result"
        }
      ],
      "source": [
        "train_data[\"data\"][0].keys()"
      ]
    },
    {
      "cell_type": "code",
      "execution_count": null,
      "metadata": {
        "colab": {
          "base_uri": "https://localhost:8080/",
          "height": 35
        },
        "id": "uIwF0bTeWMEC",
        "outputId": "357ae956-3930-418f-e822-62de93d2fcb9"
      },
      "outputs": [
        {
          "data": {
            "application/vnd.google.colaboratory.intrinsic+json": {
              "type": "string"
            },
            "text/plain": [
              "'University_of_Notre_Dame'"
            ]
          },
          "execution_count": null,
          "metadata": {},
          "output_type": "execute_result"
        }
      ],
      "source": [
        "train_data[\"data\"][0][\"title\"]"
      ]
    },
    {
      "cell_type": "code",
      "execution_count": null,
      "metadata": {
        "colab": {
          "base_uri": "https://localhost:8080/"
        },
        "id": "3YopAkB-WOTW",
        "outputId": "e2767d66-e39b-40f4-bd42-47a40c9240ed"
      },
      "outputs": [
        {
          "data": {
            "text/plain": [
              "55"
            ]
          },
          "execution_count": null,
          "metadata": {},
          "output_type": "execute_result"
        }
      ],
      "source": [
        "len(train_data[\"data\"][0][\"paragraphs\"])"
      ]
    },
    {
      "cell_type": "code",
      "execution_count": null,
      "metadata": {
        "colab": {
          "base_uri": "https://localhost:8080/"
        },
        "id": "1Bm3BAIqWRCT",
        "outputId": "da233573-f62c-46ee-9384-16fd6a110ed3"
      },
      "outputs": [
        {
          "data": {
            "text/plain": [
              "{'context': 'Architecturally, the school has a Catholic character. Atop the Main Building\\'s gold dome is a golden statue of the Virgin Mary. Immediately in front of the Main Building and facing it, is a copper statue of Christ with arms upraised with the legend \"Venite Ad Me Omnes\". Next to the Main Building is the Basilica of the Sacred Heart. Immediately behind the basilica is the Grotto, a Marian place of prayer and reflection. It is a replica of the grotto at Lourdes, France where the Virgin Mary reputedly appeared to Saint Bernadette Soubirous in 1858. At the end of the main drive (and in a direct line that connects through 3 statues and the Gold Dome), is a simple, modern stone statue of Mary.',\n",
              " 'qas': [{'answers': [{'answer_start': 515,\n",
              "     'text': 'Saint Bernadette Soubirous'}],\n",
              "   'question': 'To whom did the Virgin Mary allegedly appear in 1858 in Lourdes France?',\n",
              "   'id': '5733be284776f41900661182'},\n",
              "  {'answers': [{'answer_start': 188, 'text': 'a copper statue of Christ'}],\n",
              "   'question': 'What is in front of the Notre Dame Main Building?',\n",
              "   'id': '5733be284776f4190066117f'},\n",
              "  {'answers': [{'answer_start': 279, 'text': 'the Main Building'}],\n",
              "   'question': 'The Basilica of the Sacred heart at Notre Dame is beside to which structure?',\n",
              "   'id': '5733be284776f41900661180'},\n",
              "  {'answers': [{'answer_start': 381,\n",
              "     'text': 'a Marian place of prayer and reflection'}],\n",
              "   'question': 'What is the Grotto at Notre Dame?',\n",
              "   'id': '5733be284776f41900661181'},\n",
              "  {'answers': [{'answer_start': 92,\n",
              "     'text': 'a golden statue of the Virgin Mary'}],\n",
              "   'question': 'What sits on top of the Main Building at Notre Dame?',\n",
              "   'id': '5733be284776f4190066117e'}]}"
            ]
          },
          "execution_count": null,
          "metadata": {},
          "output_type": "execute_result"
        }
      ],
      "source": [
        "train_data[\"data\"][0][\"paragraphs\"][0]"
      ]
    },
    {
      "cell_type": "code",
      "execution_count": null,
      "metadata": {
        "colab": {
          "base_uri": "https://localhost:8080/"
        },
        "id": "rI7RL5JTWraU",
        "outputId": "2a09c434-6eb4-4bba-9a60-d323136cfbfe"
      },
      "outputs": [
        {
          "data": {
            "text/plain": [
              "18896"
            ]
          },
          "execution_count": null,
          "metadata": {},
          "output_type": "execute_result"
        }
      ],
      "source": [
        "sum(len(doc[\"paragraphs\"]) for doc in train_data[\"data\"])"
      ]
    },
    {
      "cell_type": "markdown",
      "metadata": {
        "id": "C8oSLkMqvMFF"
      },
      "source": [
        "## Part 2: Restructure JSON Data for Processing\n",
        "\n",
        "Parse the file \"SQuAD-explorer/dataset/train-v1.1.json\" above to produce a file \"parsed.tsv\" with columns document_title, paragraph_index, and paragraph_context.\n",
        "The paragraph_index column should be zero-indexed, so zero for the first paragraph of each document.\n",
        "Use pandas `to_csv` method to write the file since there are many quotes and other issues to handle otherwise."
      ]
    },
    {
      "cell_type": "code",
      "execution_count": null,
      "metadata": {
        "id": "QJHSCtWWaLAG"
      },
      "outputs": [],
      "source": [
        "# YOUR CHANGES HERE\n",
        "\n",
        "..."
      ]
    },
    {
      "cell_type": "markdown",
      "metadata": {
        "id": "u_9VpBX7aNLP"
      },
      "source": [
        "Submit \"parsed.tsv\" in Gradescope."
      ]
    },
    {
      "cell_type": "markdown",
      "metadata": {
        "id": "1H7Sr3TdcTqr"
      },
      "source": [
        "## Part 3: Prepare Suitable Paragraph Vectors for Document Search\n",
        "\n",
        "Design and implement paragraph vectors based on their text with length 1024.\n",
        "Note that this will be much smaller than the number of distinct words in the training data."
      ]
    },
    {
      "cell_type": "markdown",
      "metadata": {
        "id": "CRkun5bA1J6c"
      },
      "source": [
        "Hint: you can base your vectors on any techniques covered in this module so far.\n",
        "Beware that they will be automatically assessed (along with the question vectors of part 4) to make sure they retain useful information."
      ]
    },
    {
      "cell_type": "code",
      "execution_count": null,
      "metadata": {
        "id": "v978AkFmdnLD"
      },
      "outputs": [],
      "source": [
        "# YOUR CHANGES HERE\n",
        "\n",
        "..."
      ]
    },
    {
      "cell_type": "code",
      "execution_count": null,
      "metadata": {
        "id": "nNvDMTE1edGm"
      },
      "outputs": [],
      "source": [
        "# YOUR CHANGES HERE\n",
        "\n",
        "..."
      ]
    },
    {
      "cell_type": "markdown",
      "metadata": {
        "id": "kbZRTxludpHC"
      },
      "source": [
        "Save your paragraph vectors in a file \"paragraph-vectors.tsv\" with columns document_title, paragraph_index, and paragraph_vector_json where paragraph_vector_json is a JSON encoded list."
      ]
    },
    {
      "cell_type": "markdown",
      "metadata": {
        "id": "71KxgBp-eeqm"
      },
      "source": [
        "Submit \"paragraph-vectors.tsv\" in Gradescope."
      ]
    },
    {
      "cell_type": "markdown",
      "metadata": {
        "id": "OPL_MR_GeSa1"
      },
      "source": [
        "## Part 4: Encode Question Vectors with the Same Design\n",
        "\n",
        "Read the questions in \"questions.tsv\" and encode them in the same way that you encoded the paragraph vectors."
      ]
    },
    {
      "cell_type": "code",
      "execution_count": null,
      "metadata": {
        "id": "75F95fJjpZ3d"
      },
      "outputs": [],
      "source": [
        "# YOUR CHANGES HERE\n",
        "\n",
        "..."
      ]
    },
    {
      "cell_type": "markdown",
      "metadata": {
        "id": "-H5j32O5pb03"
      },
      "source": [
        "Save your question vectors in \"question-vectors.tsv\" with columns question_id and question_vector_json."
      ]
    },
    {
      "cell_type": "code",
      "execution_count": null,
      "metadata": {
        "id": "oLyvhIcYpr06"
      },
      "outputs": [],
      "source": [
        "# YOUR CHANGES HERE\n",
        "\n",
        "..."
      ]
    },
    {
      "cell_type": "markdown",
      "metadata": {
        "id": "IWmcWnJUptZN"
      },
      "source": [
        "Submit \"question-vectors.tsv\" in Gradescope."
      ]
    },
    {
      "cell_type": "markdown",
      "metadata": {
        "id": "4pRDyTUxcvCx"
      },
      "source": [
        "## Part 5: Match Questions to Paragraphs using Nearest Neighbors\n",
        "\n",
        "Match your question vectors to paragraph vectors and identify the top 5 paragraph vectors for each question using nearest neighbors.\n",
        "Specifically, use the Euclidean distance between the vectors.\n"
      ]
    },
    {
      "cell_type": "code",
      "execution_count": null,
      "metadata": {
        "id": "dJlB2SsMqf1F"
      },
      "outputs": [],
      "source": [
        "# YOUR CHANGES HERE\n",
        "\n",
        "..."
      ]
    },
    {
      "cell_type": "markdown",
      "metadata": {
        "id": "gvjW3nP-qkSk"
      },
      "source": [
        "Save your top matches in a file \"question-matches.tsv\" with columns question_id, question_rank, document_title, and paragraph_index.\n"
      ]
    },
    {
      "cell_type": "code",
      "execution_count": null,
      "metadata": {
        "id": "heaNwWMlrAwv"
      },
      "outputs": [],
      "source": [
        "# YOUR CHANGES HERE\n",
        "\n",
        "..."
      ]
    },
    {
      "cell_type": "markdown",
      "metadata": {
        "id": "v0m-ogJjrCK8"
      },
      "source": [
        "Submit \"question-matches.tsv\" in Gradescope."
      ]
    },
    {
      "cell_type": "markdown",
      "metadata": {
        "id": "NftG5ez0tsyy"
      },
      "source": [
        "## Part 6: Spot Check Question and Paragraph Matches\n",
        "\n",
        "Review the paragraphs matched to the first 5 questions (sorted by question_id ascending).\n",
        "Which paragraph was the worst match for each question?\n"
      ]
    },
    {
      "cell_type": "markdown",
      "metadata": {
        "id": "-FqfB5lZ087m"
      },
      "source": [
        "Submit \"worst-paragraphs.tsv\" in Gradescope."
      ]
    },
    {
      "cell_type": "markdown",
      "metadata": {
        "id": "YHaFK8Z10xnS"
      },
      "source": [
        "Write a file \"worst-paragraphs.tsv\" with three columns question_id, document_title, paragraph_index."
      ]
    },
    {
      "cell_type": "markdown",
      "metadata": {
        "id": "smsTLuFcvR-I"
      },
      "source": [
        "## Part 7: Code\n",
        "\n",
        "Please submit a Jupyter notebook that can reproduce all your calculations and recreate the previously submitted files.\n",
        "You do not need to provide code for data collection if you did that by manually."
      ]
    },
    {
      "cell_type": "markdown",
      "metadata": {
        "id": "zi8lV2pbvWMs"
      },
      "source": [
        "## Part 8: Acknowledgements\n",
        "\n",
        "If you discussed this assignment with anyone, please acknowledge them here.\n",
        "If you did this assignment completely on your own, simply write none below.\n",
        "\n",
        "If you used any libraries not mentioned in this module's content, please list them with a brief explanation what you used them for. If you did not use any other libraries, simply write none below.\n",
        "\n",
        "If you used any generative AI tools, please add links to your transcripts below, and any other information that you feel is necessary to comply with the generative AI policy. If you did not use any generative AI tools, simply write none below."
      ]
    }
  ],
  "metadata": {
    "colab": {
      "toc_visible": false
    },
    "kernelspec": {
      "display_name": "Python 3",
      "name": "python3"
    },
    "language_info": {
      "codemirror_mode": {
        "name": "ipython",
        "version": 3
      },
      "file_extension": ".py",
      "mimetype": "text/x-python",
      "name": "python",
      "nbconvert_exporter": "python",
      "pygments_lexer": "ipython3",
      "version": "3.9.6"
    }
  },
  "nbformat": 4,
  "nbformat_minor": 0
}